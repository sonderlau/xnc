{
 "cells": [
  {
   "cell_type": "code",
   "execution_count": 1,
   "metadata": {},
   "outputs": [],
   "source": [
    "import os\n",
    "from PIL import Image\n",
    "import numpy as np\n",
    "from PIL import Image"
   ]
  },
  {
   "cell_type": "code",
   "execution_count": 14,
   "metadata": {},
   "outputs": [],
   "source": [
    "filenames=os.listdir(r'./pics')\n",
    "\n",
    "result = \"\"\n",
    "\n",
    "    \n",
    "\n",
    "baseline = Image.open(f'../dataset/baseline/247DMSH.jpg').convert(\"RGB\")\n",
    "img = Image.open(f'./pics/247DMSH-we33.jpg').convert(\"RGB\")\n",
    "\n",
    "\n",
    "# 转换为数组\n",
    "# shape = (1080, 1920, 3)\n",
    "test = np.array(img, dtype=np.int16)\n",
    "origin = np.array(baseline, dtype=np.int16)\n",
    "\n",
    "\n",
    "\n",
    "# 计算 RGB 差值平方 之和\n",
    "square = (origin - test) ** 2\n",
    "\n",
    "square = np.sum(square, axis=2, dtype=np.float32)\n",
    "\n",
    "dived  = np.divide(square, (255 * 3), dtype=np.float32)\n",
    "\n",
    "\n",
    "a = np.around(dived).astype(np.uint8)\n",
    "\n",
    "result = Image.fromarray(a, mode=\"L\")\n",
    "\n",
    "# d = np.divide(sum, (255*3))\n",
    "\n",
    "# \n",
    "\n",
    "# \n",
    "# 每个像素点的计算值大小: [0, 255*255*3]\n",
    "# 将该值放缩到 0-255 范围内\n",
    "\n",
    "# sum = sum / (255 * 3)\n",
    "\n",
    "# sum\n",
    "\n",
    "result.save(f'./output/247DMSH-we33.jpg', mode=\"L\")\n",
    "    \n",
    "\n"
   ]
  }
 ],
 "metadata": {
  "kernelspec": {
   "display_name": "base",
   "language": "python",
   "name": "python3"
  },
  "language_info": {
   "codemirror_mode": {
    "name": "ipython",
    "version": 3
   },
   "file_extension": ".py",
   "mimetype": "text/x-python",
   "name": "python",
   "nbconvert_exporter": "python",
   "pygments_lexer": "ipython3",
   "version": "3.9.10"
  },
  "orig_nbformat": 4,
  "vscode": {
   "interpreter": {
    "hash": "201f1b4038dffb4c6751655281afe604dea13cfaed561b9843a99ea909229d43"
   }
  }
 },
 "nbformat": 4,
 "nbformat_minor": 2
}
