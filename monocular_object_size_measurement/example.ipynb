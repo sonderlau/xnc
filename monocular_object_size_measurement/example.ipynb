{
 "cells": [
  {
   "cell_type": "code",
   "execution_count": 44,
   "metadata": {},
   "outputs": [],
   "source": [
    "import numpy as np"
   ]
  },
  {
   "cell_type": "code",
   "execution_count": 45,
   "metadata": {},
   "outputs": [
    {
     "name": "stdout",
     "output_type": "stream",
     "text": [
      "0.1489085865157446\n",
      "0.524652107925154\n"
     ]
    }
   ],
   "source": [
    "# 焦距 mm\n",
    "f = 4.76\n",
    "\n",
    "# 像素 / 真实(mm)\n",
    "ratio = np.divide(2022.12, 440, dtype= np.float64)\n",
    "\n",
    "# Z 轴参与运算的\n",
    "u = f * ratio\n",
    "\n",
    "# AM \\ CM\n",
    "lambda_1 = np.divide(659.49, 949.82, dtype=np.float64)\n",
    "\n",
    "# BM \\ DM\n",
    "lambda_2 = np.divide(1094.97, 897.61, dtype=np.float64)\n",
    "\n",
    "OA = np.array([1081, 855, u], dtype=np.float64)\n",
    "OB = np.array([607, 1661, u], dtype=np.float64)\n",
    "OC = np.array([2397, 1771, u], dtype=np.float64)\n",
    "OD = np.array([2439, 871, u], dtype=np.float64)\n",
    "OP1 = np.array([901, 805, u], dtype=np.float64)\n",
    "OP2 = np.array([2919, 787, u], dtype=np.float64)\n",
    "\n",
    "# hat lambda 1\n",
    "hat_lambda_1 = np.divide(\n",
    "    363.74304117055,\n",
    "    np.linalg.norm(lambda_1 * OC - OA),\n",
    "    dtype= np.float64\n",
    ")\n",
    "\n",
    "# hat lambda 2\n",
    "hat_lambda_2 = np.divide(\n",
    "    363.74304117055,\n",
    "    np.linalg.norm(lambda_2 * OD - OB),\n",
    "    dtype= np.float64\n",
    ")\n",
    "\n",
    "\n",
    "\n",
    "AC_real = hat_lambda_1 * (lambda_1 * OC - OA)\n",
    "BD_real = hat_lambda_2 * (lambda_2 * OD - OB) \n",
    "\n",
    "n = np.cross(AC_real, BD_real)\n",
    "\n",
    "\n",
    "print(\n",
    "    np.divide(\n",
    "    np.dot(hat_lambda_2 * OB, n),\n",
    "    np.dot(OB, n)\n",
    "    )\n",
    ")\n",
    "\n",
    "print(\n",
    "    np.divide(\n",
    "    np.dot(hat_lambda_1 * OA, n),\n",
    "    np.dot(OA, n)\n",
    ")\n",
    ")\n",
    "\n",
    "# OP1_real = OP1 * np.divide(\n",
    "#     np.dot(hat_lambda_2 * OB, n),\n",
    "#     np.dot(OB, n)\n",
    "# )\n",
    "\n",
    "# OP2_real = OP2 * np.divide(\n",
    "#     np.dot(hat_lambda_1 * OA, n),\n",
    "#     np.dot(OA, n)\n",
    "# )\n",
    "\n",
    "# print(\n",
    "#     np.linalg.norm(OP2_real) / ratio\n",
    "# )\n",
    "\n",
    "# P1P2 = OP1_real - OP2_real\n",
    "\n",
    "# size = np.linalg.norm(P1P2)\n",
    "\n",
    "# print(size / ratio)"
   ]
  }
 ],
 "metadata": {
  "kernelspec": {
   "display_name": "base",
   "language": "python",
   "name": "python3"
  },
  "language_info": {
   "codemirror_mode": {
    "name": "ipython",
    "version": 3
   },
   "file_extension": ".py",
   "mimetype": "text/x-python",
   "name": "python",
   "nbconvert_exporter": "python",
   "pygments_lexer": "ipython3",
   "version": "3.9.10"
  },
  "orig_nbformat": 4,
  "vscode": {
   "interpreter": {
    "hash": "201f1b4038dffb4c6751655281afe604dea13cfaed561b9843a99ea909229d43"
   }
  }
 },
 "nbformat": 4,
 "nbformat_minor": 2
}
