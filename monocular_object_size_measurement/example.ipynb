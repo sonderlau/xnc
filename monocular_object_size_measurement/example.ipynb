{
 "cells": [
  {
   "cell_type": "code",
   "execution_count": 110,
   "metadata": {},
   "outputs": [],
   "source": [
    "import numpy as np"
   ]
  },
  {
   "cell_type": "code",
   "execution_count": 111,
   "metadata": {},
   "outputs": [],
   "source": [
    "def get_intersect(a1, a2, b1, b2):\n",
    "    \"\"\" \n",
    "    Returns the point of intersection of the lines passing through a2,a1 and b2,b1.\n",
    "    a1: [x, y] a point on the first line\n",
    "    a2: [x, y] another point on the first line\n",
    "    b1: [x, y] a point on the second line\n",
    "    b2: [x, y] another point on the second line\n",
    "    \"\"\"\n",
    "    # # z axis\n",
    "    # tmp = a1[2]\n",
    "    # # slice to [x, y]\n",
    "    # a1 = a1[0:2]\n",
    "    # a2 = a2[0:2]\n",
    "    # b1 = b1[0:2]\n",
    "    # b2 = b2[0:2]\n",
    "    \n",
    "    s = np.vstack([a1,a2,b1,b2])        # s for stacked\n",
    "    h = np.hstack((s, np.ones((4, 1)))) # h for homogeneous\n",
    "    l1 = np.cross(h[0], h[1])           # get first line\n",
    "    l2 = np.cross(h[2], h[3])           # get second line\n",
    "    x, y, z = np.cross(l1, l2)          # point of intersection\n",
    "    # if z == 0:                          # lines are parallel\n",
    "    #     return (float('inf'), float('inf'))\n",
    "    return np.array([x/z, y/z], dtype=np.float64)"
   ]
  },
  {
   "cell_type": "code",
   "execution_count": 112,
   "metadata": {},
   "outputs": [],
   "source": [
    "OA = np.array([1081, 855], dtype=np.float64)\n",
    "OB = np.array([607, 1661], dtype=np.float64)\n",
    "OC = np.array([2397, 1771], dtype=np.float64)\n",
    "OD = np.array([2439, 871], dtype=np.float64)\n",
    "\n",
    "OM = get_intersect(OA, OC, OB, OD)\n",
    "\n"
   ]
  },
  {
   "cell_type": "code",
   "execution_count": 113,
   "metadata": {},
   "outputs": [],
   "source": [
    "# 灭点\n",
    "vp1 = get_intersect(OA, OB, OC ,OD)\n",
    "vp2 = get_intersect(OA, OD, OB, OC)\n",
    "\n",
    "pricipal_point = np.array([2000, 912])\n",
    "\n",
    "f = 4.76\n",
    "\n",
    "u = np.sqrt(\n",
    "        -1 * np.dot(\n",
    "            vp1 - pricipal_point,\n",
    "            vp2 - pricipal_point\n",
    "    )\n",
    ")\n",
    "\n",
    "ratio = np.divide(u , f, dtype=np.float64)\n",
    "\n",
    "OA = np.append(OA, [u])\n",
    "OB = np.append(OB, [u])\n",
    "OC = np.append(OC, [u])\n",
    "OD = np.append(OD, [u])\n",
    "OM = np.append(OM, [u])\n",
    "\n",
    "\n",
    "OP1 = np.array([911, 801, u], dtype=np.float64)\n",
    "OP2 = np.array([2927, 777, u], dtype=np.float64)"
   ]
  },
  {
   "cell_type": "code",
   "execution_count": 114,
   "metadata": {},
   "outputs": [],
   "source": [
    "AM = np.linalg.norm(OA - OM)\n",
    "CM = np.linalg.norm(OC - OM)\n",
    "BM = np.linalg.norm(OB - OM)\n",
    "DM = np.linalg.norm(OD - OM)"
   ]
  },
  {
   "cell_type": "code",
   "execution_count": 115,
   "metadata": {},
   "outputs": [],
   "source": [
    "# AM \\ CM\n",
    "lambda_1 = np.divide(AM, CM, dtype=np.float64)\n",
    "\n",
    "# BM \\ DM\n",
    "lambda_2 = np.divide(BM, DM, dtype=np.float64)\n"
   ]
  },
  {
   "cell_type": "code",
   "execution_count": 116,
   "metadata": {},
   "outputs": [],
   "source": [
    "# hat lambda 1\n",
    "hat_lambda_1 = np.divide(\n",
    "    363.74304117055,\n",
    "    np.linalg.norm(lambda_1 * OC - OA),\n",
    "    dtype= np.float64\n",
    ")\n",
    "\n",
    "# hat lambda 2\n",
    "hat_lambda_2 = np.divide(\n",
    "    363.74304117055,\n",
    "    np.linalg.norm(lambda_2 * OD - OB),\n",
    "    dtype= np.float64\n",
    ")\n",
    "\n",
    "\n",
    "AC_real = hat_lambda_1 * (lambda_1 * OC - OA)\n",
    "BD_real = hat_lambda_2 * (lambda_2 * OD - OB) \n",
    "\n",
    "n = np.cross(AC_real, BD_real)\n",
    "\n",
    "# OA' = ^lambda_1 * OA\n",
    "OA_real = hat_lambda_1 * OA\n",
    "OB_real = hat_lambda_2 * OB\n"
   ]
  },
  {
   "cell_type": "code",
   "execution_count": 117,
   "metadata": {},
   "outputs": [
    {
     "data": {
      "text/plain": [
       "9.313225746154785e-10"
      ]
     },
     "execution_count": 117,
     "metadata": {},
     "output_type": "execute_result"
    }
   ],
   "source": [
    "# 理论上 应该是垂直的\n",
    "np.dot(\n",
    "    BD_real, n\n",
    ")\n"
   ]
  },
  {
   "attachments": {},
   "cell_type": "markdown",
   "metadata": {},
   "source": [
    "实际上 BD_real 和 n 之间有轻微的误差\n",
    "所以尽量使用 AC"
   ]
  },
  {
   "cell_type": "code",
   "execution_count": 118,
   "metadata": {},
   "outputs": [
    {
     "name": "stdout",
     "output_type": "stream",
     "text": [
      "569.5879199931568\n"
     ]
    }
   ],
   "source": [
    "\n",
    "OP1_real = OP1 * np.divide(\n",
    "    np.dot(\n",
    "        OA_real, n\n",
    "    ),\n",
    "    np.dot(\n",
    "        OP1, n\n",
    "    )\n",
    "    \n",
    ")\n",
    "\n",
    "OP2_real = OP2 * np.divide(\n",
    "    np.dot(\n",
    "        OA_real, n\n",
    "    ),\n",
    "    np.dot(\n",
    "        OP2, n\n",
    "    )\n",
    "    \n",
    ")\n",
    "\n",
    "\n",
    "P1P2 = OP1_real - OP2_real\n",
    "\n",
    "size = np.linalg.norm(P1P2)\n",
    "\n",
    "print(size)"
   ]
  }
 ],
 "metadata": {
  "kernelspec": {
   "display_name": "base",
   "language": "python",
   "name": "python3"
  },
  "language_info": {
   "codemirror_mode": {
    "name": "ipython",
    "version": 3
   },
   "file_extension": ".py",
   "mimetype": "text/x-python",
   "name": "python",
   "nbconvert_exporter": "python",
   "pygments_lexer": "ipython3",
   "version": "3.9.10"
  },
  "orig_nbformat": 4,
  "vscode": {
   "interpreter": {
    "hash": "201f1b4038dffb4c6751655281afe604dea13cfaed561b9843a99ea909229d43"
   }
  }
 },
 "nbformat": 4,
 "nbformat_minor": 2
}
