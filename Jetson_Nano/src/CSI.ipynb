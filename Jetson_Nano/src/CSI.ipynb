{
 "cells": [
  {
   "cell_type": "code",
   "execution_count": 5,
   "metadata": {},
   "outputs": [
    {
     "name": "stderr",
     "output_type": "stream",
     "text": [
      "(Argus) Error InvalidState: Receive thread is not running cannot send. (in src/rpc/socket/client/ClientSocketManager.cpp, function send(), line 96)\n",
      "(Argus) Error InvalidState:  (propagating from src/rpc/socket/client/SocketClientDispatch.cpp, function dispatch(), line 91)\n",
      "Error generated. /dvs/git/dirty/git-master_linux/multimedia/nvgstreamer/gst-nvarguscamera/gstnvarguscamerasrc.cpp, execute:736 Failed to create CaptureSession\n",
      "[ WARN:0] global /home/jetson/opencv/modules/videoio/src/cap_gstreamer.cpp (1081) open OpenCV | GStreamer warning: Cannot query video position: status=0, value=-1, duration=-1\n"
     ]
    },
    {
     "ename": "RuntimeError",
     "evalue": "Could not initialize camera.  Please see error trace.",
     "output_type": "error",
     "traceback": [
      "\u001b[0;31m---------------------------------------------------------------------------\u001b[0m",
      "\u001b[0;31mRuntimeError\u001b[0m                              Traceback (most recent call last)",
      "File \u001b[0;32m/usr/local/lib/python3.8/dist-packages/jetcam-0.0.0-py3.8.egg/jetcam/csi_camera.py:24\u001b[0m, in \u001b[0;36mCSICamera.__init__\u001b[0;34m(self, *args, **kwargs)\u001b[0m\n\u001b[1;32m     <a href='file:///usr/local/lib/python3.8/dist-packages/jetcam-0.0.0-py3.8.egg/jetcam/csi_camera.py?line=22'>23</a>\u001b[0m     \u001b[39mif\u001b[39;00m \u001b[39mnot\u001b[39;00m re:\n\u001b[0;32m---> <a href='file:///usr/local/lib/python3.8/dist-packages/jetcam-0.0.0-py3.8.egg/jetcam/csi_camera.py?line=23'>24</a>\u001b[0m         \u001b[39mraise\u001b[39;00m \u001b[39mRuntimeError\u001b[39;00m(\u001b[39m'\u001b[39m\u001b[39mCould not read image from camera.\u001b[39m\u001b[39m'\u001b[39m)\n\u001b[1;32m     <a href='file:///usr/local/lib/python3.8/dist-packages/jetcam-0.0.0-py3.8.egg/jetcam/csi_camera.py?line=24'>25</a>\u001b[0m \u001b[39mexcept\u001b[39;00m:\n",
      "\u001b[0;31mRuntimeError\u001b[0m: Could not read image from camera.",
      "\nDuring handling of the above exception, another exception occurred:\n",
      "\u001b[0;31mRuntimeError\u001b[0m                              Traceback (most recent call last)",
      "\u001b[1;32m/home/jetson/xnc/CSI.ipynb Cell 1'\u001b[0m in \u001b[0;36m<cell line: 4>\u001b[0;34m()\u001b[0m\n\u001b[1;32m      <a href='vscode-notebook-cell://ssh-remote%2B10.129.200.53/home/jetson/xnc/CSI.ipynb#ch0000000vscode-remote?line=0'>1</a>\u001b[0m \u001b[39mfrom\u001b[39;00m \u001b[39mjetcam\u001b[39;00m\u001b[39m.\u001b[39;00m\u001b[39mcsi_camera\u001b[39;00m \u001b[39mimport\u001b[39;00m CSICamera\n\u001b[1;32m      <a href='vscode-notebook-cell://ssh-remote%2B10.129.200.53/home/jetson/xnc/CSI.ipynb#ch0000000vscode-remote?line=1'>2</a>\u001b[0m \u001b[39mfrom\u001b[39;00m \u001b[39mPIL\u001b[39;00m \u001b[39mimport\u001b[39;00m Image\n\u001b[0;32m----> <a href='vscode-notebook-cell://ssh-remote%2B10.129.200.53/home/jetson/xnc/CSI.ipynb#ch0000000vscode-remote?line=3'>4</a>\u001b[0m camera \u001b[39m=\u001b[39m CSICamera(capture_device\u001b[39m=\u001b[39;49m\u001b[39m0\u001b[39;49m, width\u001b[39m=\u001b[39;49m\u001b[39m224\u001b[39;49m, height\u001b[39m=\u001b[39;49m\u001b[39m224\u001b[39;49m, capture_width\u001b[39m=\u001b[39;49m\u001b[39m1280\u001b[39;49m, capture_height\u001b[39m=\u001b[39;49m\u001b[39m720\u001b[39;49m, capture_fps\u001b[39m=\u001b[39;49m\u001b[39m30\u001b[39;49m)\n\u001b[1;32m      <a href='vscode-notebook-cell://ssh-remote%2B10.129.200.53/home/jetson/xnc/CSI.ipynb#ch0000000vscode-remote?line=5'>6</a>\u001b[0m image \u001b[39m=\u001b[39m camera\u001b[39m.\u001b[39mread()\n\u001b[1;32m     <a href='vscode-notebook-cell://ssh-remote%2B10.129.200.53/home/jetson/xnc/CSI.ipynb#ch0000000vscode-remote?line=9'>10</a>\u001b[0m \u001b[39mprint\u001b[39m(\u001b[39m\"\u001b[39m\u001b[39m-------------------------------------\u001b[39m\u001b[39m\"\u001b[39m)\n",
      "File \u001b[0;32m/usr/local/lib/python3.8/dist-packages/jetcam-0.0.0-py3.8.egg/jetcam/csi_camera.py:26\u001b[0m, in \u001b[0;36mCSICamera.__init__\u001b[0;34m(self, *args, **kwargs)\u001b[0m\n\u001b[1;32m     <a href='file:///usr/local/lib/python3.8/dist-packages/jetcam-0.0.0-py3.8.egg/jetcam/csi_camera.py?line=23'>24</a>\u001b[0m         \u001b[39mraise\u001b[39;00m \u001b[39mRuntimeError\u001b[39;00m(\u001b[39m'\u001b[39m\u001b[39mCould not read image from camera.\u001b[39m\u001b[39m'\u001b[39m)\n\u001b[1;32m     <a href='file:///usr/local/lib/python3.8/dist-packages/jetcam-0.0.0-py3.8.egg/jetcam/csi_camera.py?line=24'>25</a>\u001b[0m \u001b[39mexcept\u001b[39;00m:\n\u001b[0;32m---> <a href='file:///usr/local/lib/python3.8/dist-packages/jetcam-0.0.0-py3.8.egg/jetcam/csi_camera.py?line=25'>26</a>\u001b[0m     \u001b[39mraise\u001b[39;00m \u001b[39mRuntimeError\u001b[39;00m(\n\u001b[1;32m     <a href='file:///usr/local/lib/python3.8/dist-packages/jetcam-0.0.0-py3.8.egg/jetcam/csi_camera.py?line=26'>27</a>\u001b[0m         \u001b[39m'\u001b[39m\u001b[39mCould not initialize camera.  Please see error trace.\u001b[39m\u001b[39m'\u001b[39m)\n\u001b[1;32m     <a href='file:///usr/local/lib/python3.8/dist-packages/jetcam-0.0.0-py3.8.egg/jetcam/csi_camera.py?line=28'>29</a>\u001b[0m atexit\u001b[39m.\u001b[39mregister(\u001b[39mself\u001b[39m\u001b[39m.\u001b[39mcap\u001b[39m.\u001b[39mrelease)\n",
      "\u001b[0;31mRuntimeError\u001b[0m: Could not initialize camera.  Please see error trace."
     ]
    }
   ],
   "source": [
    "from jetcam.csi_camera import CSICamera\n",
    "from PIL import Image\n",
    "\n",
    "camera = CSICamera(capture_device=0, width=224, height=224, capture_width=1280, capture_height=720, capture_fps=30)\n",
    "\n",
    "image = camera.read()\n",
    "\n",
    "\n",
    "\n",
    "print(\"-------------------------------------\")\n",
    "image = image.swapaxes(2,0)\n",
    "\n",
    "\n"
   ]
  },
  {
   "cell_type": "code",
   "execution_count": null,
   "metadata": {},
   "outputs": [],
   "source": [
    "pil_image = Image.fromarray(image)\n",
    "\n",
    "pil_image.save('./test.jpg')"
   ]
  }
 ],
 "metadata": {
  "interpreter": {
   "hash": "31f2aee4e71d21fbe5cf8b01ff0e069b9275f58929596ceb00d14d90e3e16cd6"
  },
  "kernelspec": {
   "display_name": "Python 3.8.10 64-bit",
   "language": "python",
   "name": "python3"
  },
  "language_info": {
   "codemirror_mode": {
    "name": "ipython",
    "version": 3
   },
   "file_extension": ".py",
   "mimetype": "text/x-python",
   "name": "python",
   "nbconvert_exporter": "python",
   "pygments_lexer": "ipython3",
   "version": "3.8.10"
  },
  "orig_nbformat": 4
 },
 "nbformat": 4,
 "nbformat_minor": 2
}
